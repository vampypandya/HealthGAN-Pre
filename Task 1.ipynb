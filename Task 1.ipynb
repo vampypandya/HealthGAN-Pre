{
 "cells": [
  {
   "cell_type": "code",
   "execution_count": 19,
   "metadata": {},
   "outputs": [],
   "source": [
    "import pandas as pd\n",
    "import numpy as np\n",
    "import random\n",
    "import ast\n",
    "import pytest"
   ]
  },
  {
   "cell_type": "code",
   "execution_count": 20,
   "metadata": {},
   "outputs": [],
   "source": [
    "def create_dummy_df(num_patients, num_max_visits, num_features):\n",
    "    random_patient_visits = [random.randint(4,num_max_visits) for _ in range(num_patients)]\n",
    "    dummy_df = [[str([random.randint(0,10) for _ in range(num_features)]) for num_visits in range(random_patient_visits[patient_index])] for patient_index in range(num_patients)]\n",
    "    for num_patient,patient in enumerate(dummy_df):\n",
    "        pad_needed = num_max_visits - random_patient_visits[num_patient]\n",
    "        if(pad_needed !=0):\n",
    "            zero_pad = [str([0]*num_features) for _ in range(pad_needed)]\n",
    "            zero_pad.extend(list(patient))\n",
    "            dummy_df[num_patient] = zero_pad\n",
    "    dummy_df = np.asarray(dummy_df)\n",
    "    return dummy_df\n",
    "    "
   ]
  },
  {
   "cell_type": "code",
   "execution_count": 21,
   "metadata": {},
   "outputs": [],
   "source": [
    "df_array = create_dummy_df(2, 10, 7)\n",
    "df = pd.DataFrame(data = df_array)"
   ]
  },
  {
   "cell_type": "code",
   "execution_count": 22,
   "metadata": {},
   "outputs": [],
   "source": [
    "def generate_ngrams(s, n):\n",
    "    ngrams = [[ast.literal_eval(s[i]) for i in range(j,j+n) if sum(ast.literal_eval(s[i]))!=0] for j in range(0,len(s)-n+1) if sum(ast.literal_eval(s[j]))!=0]\n",
    "    return ngrams"
   ]
  },
  {
   "cell_type": "code",
   "execution_count": 23,
   "metadata": {},
   "outputs": [],
   "source": [
    "def gen_ngrams(df, n = 3):\n",
    "    total_patient_bigrams = []\n",
    "    for patient_index in range(df.shape[0]):\n",
    "        patient_details = np.asarray(df.iloc[patient_index,:])\n",
    "        patient_ngrams = generate_ngrams(patient_details,n)\n",
    "        total_patient_bigrams.extend(patient_ngrams)\n",
    "    num_total_patient_bigrams = len(total_patient_bigrams)\n",
    "    return num_total_patient_bigrams,n,total_patient_bigrams\n",
    "\n"
   ]
  },
  {
   "cell_type": "code",
   "execution_count": 24,
   "metadata": {},
   "outputs": [
    {
     "data": {
      "text/plain": [
       "(12,\n",
       " 3,\n",
       " [[[2, 2, 9, 4, 1, 6, 10], [3, 8, 6, 9, 9, 8, 4], [1, 8, 6, 6, 6, 5, 3]],\n",
       "  [[3, 8, 6, 9, 9, 8, 4], [1, 8, 6, 6, 6, 5, 3], [9, 5, 3, 0, 7, 10, 7]],\n",
       "  [[1, 8, 6, 6, 6, 5, 3], [9, 5, 3, 0, 7, 10, 7], [4, 6, 5, 5, 3, 6, 3]],\n",
       "  [[9, 5, 3, 0, 7, 10, 7], [4, 6, 5, 5, 3, 6, 3], [10, 3, 7, 7, 4, 3, 7]],\n",
       "  [[4, 6, 5, 5, 3, 6, 3], [10, 3, 7, 7, 4, 3, 7], [7, 1, 10, 0, 10, 0, 6]],\n",
       "  [[10, 3, 7, 7, 4, 3, 7], [7, 1, 10, 0, 10, 0, 6], [3, 9, 3, 7, 6, 5, 0]],\n",
       "  [[7, 7, 8, 2, 5, 5, 9], [8, 8, 1, 0, 2, 4, 10], [3, 10, 5, 4, 0, 0, 6]],\n",
       "  [[8, 8, 1, 0, 2, 4, 10], [3, 10, 5, 4, 0, 0, 6], [2, 6, 9, 1, 2, 1, 0]],\n",
       "  [[3, 10, 5, 4, 0, 0, 6], [2, 6, 9, 1, 2, 1, 0], [10, 9, 0, 10, 1, 5, 5]],\n",
       "  [[2, 6, 9, 1, 2, 1, 0], [10, 9, 0, 10, 1, 5, 5], [4, 0, 7, 10, 6, 8, 4]],\n",
       "  [[10, 9, 0, 10, 1, 5, 5], [4, 0, 7, 10, 6, 8, 4], [8, 2, 2, 10, 5, 0, 0]],\n",
       "  [[4, 0, 7, 10, 6, 8, 4], [8, 2, 2, 10, 5, 0, 0], [9, 1, 2, 10, 1, 10, 3]]])"
      ]
     },
     "execution_count": 24,
     "metadata": {},
     "output_type": "execute_result"
    }
   ],
   "source": [
    "gen_ngrams(df)\n"
   ]
  },
  {
   "cell_type": "code",
   "execution_count": null,
   "metadata": {},
   "outputs": [],
   "source": []
  },
  {
   "cell_type": "code",
   "execution_count": null,
   "metadata": {},
   "outputs": [],
   "source": []
  }
 ],
 "metadata": {
  "kernelspec": {
   "display_name": "Python 3",
   "language": "python",
   "name": "python3"
  },
  "language_info": {
   "codemirror_mode": {
    "name": "ipython",
    "version": 3
   },
   "file_extension": ".py",
   "mimetype": "text/x-python",
   "name": "python",
   "nbconvert_exporter": "python",
   "pygments_lexer": "ipython3",
   "version": "3.7.4"
  }
 },
 "nbformat": 4,
 "nbformat_minor": 2
}
