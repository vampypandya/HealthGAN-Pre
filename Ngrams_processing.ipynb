{
 "cells": [
  {
   "cell_type": "code",
   "execution_count": 337,
   "metadata": {
    "pycharm": {
     "is_executing": false
    }
   },
   "outputs": [],
   "source": [
    "import pandas as pd\n",
    "import numpy as np\n",
    "import random\n",
    "import ast\n"
   ]
  },
  {
   "cell_type": "code",
   "execution_count": 367,
   "metadata": {},
   "outputs": [],
   "source": [
    "ngrams_value = 2\n",
    "total_patients = 10\n",
    "maximum_visits = 10\n",
    "total_features = 7\n",
    "train_percentage = 0.9\n",
    "train_pid_remove=True\n",
    "test_pid_remove=False"
   ]
  },
  {
   "cell_type": "code",
   "execution_count": 368,
   "metadata": {
    "pycharm": {
     "is_executing": false
    }
   },
   "outputs": [],
   "source": [
    "def create_dummy_df(num_patients, num_max_visits, num_features):\n",
    "    random_patient_visits = [random.randint(4,num_max_visits) for _ in range(num_patients)]\n",
    "    dummy_df = [[[random.randint(1,10) for _ in range(num_features)] for num_visits in range(random_patient_visits[patient_index])] for patient_index in range(num_patients)]\n",
    "    for i,record in enumerate(dummy_df):\n",
    "        for ind_rec in record:\n",
    "            ind_rec[0] = i+1\n",
    "    for num_patient,patient in enumerate(dummy_df):\n",
    "        pad_needed = num_max_visits - random_patient_visits[num_patient]\n",
    "        if(pad_needed !=0):\n",
    "            zero_pad = [[0]*num_features for _ in range(pad_needed)]\n",
    "            zero_pad.extend(list(patient))\n",
    "            dummy_df[num_patient] = zero_pad\n",
    "    dummy_df = np.asarray(dummy_df)\n",
    "    return dummy_df\n",
    "    "
   ]
  },
  {
   "cell_type": "code",
   "execution_count": 369,
   "metadata": {
    "pycharm": {
     "is_executing": false
    }
   },
   "outputs": [],
   "source": [
    "df = create_dummy_df(total_patients, maximum_visits, total_features)"
   ]
  },
  {
   "cell_type": "code",
   "execution_count": 370,
   "metadata": {
    "pycharm": {
     "is_executing": false
    }
   },
   "outputs": [],
   "source": [
    "def generate_ngrams(s, n):\n",
    "    #Assume 0th index to be PID\n",
    "    l = len(s)\n",
    "    ngrams = []\n",
    "    for rec_index in range(l-1,-1,-1):\n",
    "        temp_list = [s[i] for i in range(rec_index,rec_index-n,-1)]\n",
    "        for record in temp_list:\n",
    "            if(record[0] == 0):\n",
    "                return ngrams\n",
    "        ngrams.append(temp_list)\n",
    "#     ngrams = [[s[i] for i in range(j,j-n,-1) if sum(s[i])!=0] for j in range(l-1,-1,-1) if sum(s[j])!=0]\n",
    "    return ngrams"
   ]
  },
  {
   "cell_type": "code",
   "execution_count": 371,
   "metadata": {
    "pycharm": {
     "is_executing": false
    }
   },
   "outputs": [],
   "source": [
    "def gen_ngrams(df, n = 2):\n",
    "    total_patient_bigrams = []\n",
    "    index_list = []\n",
    "    for patient_index in range(df.shape[0]):\n",
    "        patient_details = np.asarray(df[patient_index])\n",
    "        if(len(patient_details)>=n):\n",
    "            patient_ngrams = generate_ngrams(patient_details,n)\n",
    "            total_patient_bigrams.extend(patient_ngrams)\n",
    "            index_list.extend([patient_ngrams[0][0][0] for x in range(len(patient_ngrams))])\n",
    "    num_total_patient_bigrams = len(total_patient_bigrams)\n",
    "    return num_total_patient_bigrams,n,np.asarray(total_patient_bigrams),index_list\n",
    "\n"
   ]
  },
  {
   "cell_type": "code",
   "execution_count": 372,
   "metadata": {
    "pycharm": {
     "is_executing": false
    }
   },
   "outputs": [],
   "source": [
    "\n",
    "num_patient,n,ngrams,index_list = gen_ngrams(df,ngrams_value)\n",
    "# print(ngrams)"
   ]
  },
  {
   "cell_type": "code",
   "execution_count": 373,
   "metadata": {
    "pycharm": {
     "is_executing": false
    }
   },
   "outputs": [],
   "source": [
    "#Train/Test Data Split \n",
    "\n",
    "from itertools import groupby\n",
    "from itertools import permutations\n",
    "\n",
    "def remove_pid(record):\n",
    "    record = record.tolist()\n",
    "    for i,encounter in enumerate(record):\n",
    "        record[i] = encounter[1:]\n",
    "    return record\n",
    "\n",
    "def find_closest_sum(numbers, target, n):\n",
    "        permlist = list(permutations(numbers, n))\n",
    "        sumlist = [sum(l) for l in permlist]\n",
    "        maxpos = 0\n",
    "        for i in range(1, len(sumlist)):\n",
    "            if abs(sumlist[i] - target) < abs(sumlist[maxpos]-target):\n",
    "                 maxpos = i\n",
    "        return permlist[maxpos]\n",
    "                    \n",
    "def split(index_list,ngrams,train_percentage = 0.5,train_pid_remove = True,test_pid_remove = True):\n",
    "    freq_dict = {key:len(list(group)) for key, group in groupby(index_list)}\n",
    "    target = int(len(index_list)*train_percentage)\n",
    "    freq_values = list(freq_dict.values())\n",
    "    prev_diff = maximum_visits\n",
    "    best_index = []\n",
    "    for num_train_users in range(1,total_patients+1):\n",
    "        indexes = find_closest_sum(freq_values, target, num_train_users)\n",
    "        s_index = sum(indexes)\n",
    "        if(target - s_index < prev_diff):\n",
    "            prev_diff = target - s_index\n",
    "            best_index = indexes\n",
    "            if(prev_diff == 0):\n",
    "                break\n",
    "    train_pid = []\n",
    "    for val in best_index:\n",
    "        ind = freq_values.index(val)\n",
    "        freq_values[ind] = -1\n",
    "        train_pid.append(ind+1)\n",
    "    test_pid = [x for x in range(1,total_patients+1) if x not in train_pid]\n",
    "    train_data = []\n",
    "    test_data = []\n",
    "    for record in ngrams:\n",
    "        if(record[0][0] in train_pid):\n",
    "            if(train_pid_remove):\n",
    "                record = remove_pid(record)\n",
    "            train_data.append(record)\n",
    "        else:\n",
    "            if(test_pid_remove):\n",
    "                record = remove_pid(record)\n",
    "            test_data.append(record)\n",
    "    return np.asarray(train_data),np.asarray(test_data)\n"
   ]
  },
  {
   "cell_type": "code",
   "execution_count": 374,
   "metadata": {
    "pycharm": {
     "is_executing": false
    }
   },
   "outputs": [
    {
     "name": "stdout",
     "output_type": "stream",
     "text": [
      "(63, 2, 6) (7, 2, 7)\n"
     ]
    }
   ],
   "source": [
    "train,test = split(index_list,ngrams,train_percentage,train_pid_remove,test_pid_remove)   \n",
    "print(train.shape,test.shape)\n"
   ]
  },
  {
   "cell_type": "code",
   "execution_count": null,
   "metadata": {},
   "outputs": [],
   "source": []
  }
 ],
 "metadata": {
  "kernelspec": {
   "display_name": "PyCharm (HealthGAN)",
   "language": "python",
   "name": "pycharm-30028d10"
  },
  "language_info": {
   "codemirror_mode": {
    "name": "ipython",
    "version": 3
   },
   "file_extension": ".py",
   "mimetype": "text/x-python",
   "name": "python",
   "nbconvert_exporter": "python",
   "pygments_lexer": "ipython3",
   "version": "3.7.5"
  },
  "pycharm": {
   "stem_cell": {
    "cell_type": "raw",
    "metadata": {
     "collapsed": false
    },
    "source": []
   }
  }
 },
 "nbformat": 4,
 "nbformat_minor": 2
}
